{
 "cells": [
  {
   "cell_type": "code",
   "outputs": [],
   "source": [
    "import yfinance as yf\n",
    "import warnings\n",
    "warnings.filterwarnings(\"ignore\")\n",
    "ticker = yf.Ticker(\"^GSPC\")"
   ],
   "metadata": {
    "collapsed": false
   },
   "id": "initial_id",
   "execution_count": null
  },
  {
   "cell_type": "code",
   "outputs": [
    {
     "data": {
      "text/plain": "Empty DataFrame\nColumns: [Dividends, Stock Splits]\nIndex: []",
      "text/html": "<div>\n<style scoped>\n    .dataframe tbody tr th:only-of-type {\n        vertical-align: middle;\n    }\n\n    .dataframe tbody tr th {\n        vertical-align: top;\n    }\n\n    .dataframe thead th {\n        text-align: right;\n    }\n</style>\n<table border=\"1\" class=\"dataframe\">\n  <thead>\n    <tr style=\"text-align: right;\">\n      <th></th>\n      <th>Dividends</th>\n      <th>Stock Splits</th>\n    </tr>\n    <tr>\n      <th>Date</th>\n      <th></th>\n      <th></th>\n    </tr>\n  </thead>\n  <tbody>\n  </tbody>\n</table>\n</div>"
     },
     "execution_count": 2,
     "metadata": {},
     "output_type": "execute_result"
    }
   ],
   "source": [
    "ticker.actions"
   ],
   "metadata": {
    "collapsed": false,
    "ExecuteTime": {
     "end_time": "2024-02-24T02:27:48.756297Z",
     "start_time": "2024-02-24T02:27:46.755918Z"
    }
   },
   "id": "558848380450a5fe",
   "execution_count": 2
  },
  {
   "cell_type": "code",
   "outputs": [
    {
     "data": {
      "text/plain": "Empty DataFrame\nColumns: []\nIndex: []",
      "text/html": "<div>\n<style scoped>\n    .dataframe tbody tr th:only-of-type {\n        vertical-align: middle;\n    }\n\n    .dataframe tbody tr th {\n        vertical-align: top;\n    }\n\n    .dataframe thead th {\n        text-align: right;\n    }\n</style>\n<table border=\"1\" class=\"dataframe\">\n  <thead>\n    <tr style=\"text-align: right;\">\n      <th></th>\n    </tr>\n  </thead>\n  <tbody>\n  </tbody>\n</table>\n</div>"
     },
     "execution_count": 3,
     "metadata": {},
     "output_type": "execute_result"
    }
   ],
   "source": [
    "ticker.balancesheet"
   ],
   "metadata": {
    "collapsed": false,
    "ExecuteTime": {
     "end_time": "2024-02-24T02:27:48.911383Z",
     "start_time": "2024-02-24T02:27:48.754898Z"
    }
   },
   "id": "daba442b9ef26377",
   "execution_count": 3
  },
  {
   "cell_type": "code",
   "outputs": [
    {
     "data": {
      "text/plain": "lazy-loading dict with keys = ['currency', 'dayHigh', 'dayLow', 'exchange', 'fiftyDayAverage', 'lastPrice', 'lastVolume', 'marketCap', 'open', 'previousClose', 'quoteType', 'regularMarketPreviousClose', 'shares', 'tenDayAverageVolume', 'threeMonthAverageVolume', 'timezone', 'twoHundredDayAverage', 'yearChange', 'yearHigh', 'yearLow']"
     },
     "execution_count": 4,
     "metadata": {},
     "output_type": "execute_result"
    }
   ],
   "source": [
    "ticker.basic_info"
   ],
   "metadata": {
    "collapsed": false,
    "ExecuteTime": {
     "end_time": "2024-02-24T02:27:48.912700Z",
     "start_time": "2024-02-24T02:27:48.884722Z"
    }
   },
   "id": "fc4a3b263abf3fb8",
   "execution_count": 4
  },
  {
   "cell_type": "code",
   "outputs": [
    {
     "name": "stderr",
     "output_type": "stream",
     "text": [
      "404 Client Error: Not Found for url: https://query2.finance.yahoo.com/v10/finance/quoteSummary/%5EGSPC?modules=calendarEvents&corsDomain=finance.yahoo.com&formatted=false&symbol=%5EGSPC&crumb=tbBdTUkCNUj\n"
     ]
    },
    {
     "data": {
      "text/plain": "{}"
     },
     "execution_count": 5,
     "metadata": {},
     "output_type": "execute_result"
    }
   ],
   "source": [
    "ticker.calendar"
   ],
   "metadata": {
    "collapsed": false,
    "ExecuteTime": {
     "end_time": "2024-02-24T02:27:50.363705Z",
     "start_time": "2024-02-24T02:27:48.898158Z"
    }
   },
   "id": "8d41af89a946bba9",
   "execution_count": 5
  },
  {
   "cell_type": "code",
   "outputs": [
    {
     "data": {
      "text/plain": "Series([], dtype: object)"
     },
     "execution_count": 6,
     "metadata": {},
     "output_type": "execute_result"
    }
   ],
   "source": [
    "ticker.capital_gains"
   ],
   "metadata": {
    "collapsed": false,
    "ExecuteTime": {
     "end_time": "2024-02-24T02:27:50.410055Z",
     "start_time": "2024-02-24T02:27:50.360819Z"
    }
   },
   "id": "3736b0643b60f0fa",
   "execution_count": 6
  },
  {
   "cell_type": "code",
   "outputs": [
    {
     "data": {
      "text/plain": "Empty DataFrame\nColumns: []\nIndex: []",
      "text/html": "<div>\n<style scoped>\n    .dataframe tbody tr th:only-of-type {\n        vertical-align: middle;\n    }\n\n    .dataframe tbody tr th {\n        vertical-align: top;\n    }\n\n    .dataframe thead th {\n        text-align: right;\n    }\n</style>\n<table border=\"1\" class=\"dataframe\">\n  <thead>\n    <tr style=\"text-align: right;\">\n      <th></th>\n    </tr>\n  </thead>\n  <tbody>\n  </tbody>\n</table>\n</div>"
     },
     "execution_count": 7,
     "metadata": {},
     "output_type": "execute_result"
    }
   ],
   "source": [
    "ticker.cash_flow"
   ],
   "metadata": {
    "collapsed": false,
    "ExecuteTime": {
     "end_time": "2024-02-24T02:27:50.518697Z",
     "start_time": "2024-02-24T02:27:50.374131Z"
    }
   },
   "id": "abec763171250ca1",
   "execution_count": 7
  },
  {
   "cell_type": "code",
   "outputs": [
    {
     "data": {
      "text/plain": "Empty DataFrame\nColumns: []\nIndex: []",
      "text/html": "<div>\n<style scoped>\n    .dataframe tbody tr th:only-of-type {\n        vertical-align: middle;\n    }\n\n    .dataframe tbody tr th {\n        vertical-align: top;\n    }\n\n    .dataframe thead th {\n        text-align: right;\n    }\n</style>\n<table border=\"1\" class=\"dataframe\">\n  <thead>\n    <tr style=\"text-align: right;\">\n      <th></th>\n    </tr>\n  </thead>\n  <tbody>\n  </tbody>\n</table>\n</div>"
     },
     "execution_count": 8,
     "metadata": {},
     "output_type": "execute_result"
    }
   ],
   "source": [
    "ticker.cashflow"
   ],
   "metadata": {
    "collapsed": false,
    "ExecuteTime": {
     "end_time": "2024-02-24T02:27:50.524134Z",
     "start_time": "2024-02-24T02:27:50.511383Z"
    }
   },
   "id": "a42a8c91741bff6e",
   "execution_count": 8
  },
  {
   "cell_type": "code",
   "outputs": [
    {
     "data": {
      "text/plain": "Series([], Name: Dividends, dtype: float64)"
     },
     "execution_count": 9,
     "metadata": {},
     "output_type": "execute_result"
    }
   ],
   "source": [
    "ticker.dividends"
   ],
   "metadata": {
    "collapsed": false,
    "ExecuteTime": {
     "end_time": "2024-02-24T02:27:50.553743Z",
     "start_time": "2024-02-24T02:27:50.526639Z"
    }
   },
   "id": "b5e83e81dd048b3",
   "execution_count": 9
  },
  {
   "cell_type": "code",
   "outputs": [
    {
     "name": "stderr",
     "output_type": "stream",
     "text": [
      "^GSPC: No earnings dates found, symbol may be delisted\n"
     ]
    }
   ],
   "source": [
    "ticker.earnings_dates"
   ],
   "metadata": {
    "collapsed": false,
    "ExecuteTime": {
     "end_time": "2024-02-24T02:27:52.841059Z",
     "start_time": "2024-02-24T02:27:50.537771Z"
    }
   },
   "id": "3a291fdd2f656410",
   "execution_count": 10
  },
  {
   "cell_type": "code",
   "outputs": [
    {
     "data": {
      "text/plain": "lazy-loading dict with keys = ['currency', 'dayHigh', 'dayLow', 'exchange', 'fiftyDayAverage', 'lastPrice', 'lastVolume', 'marketCap', 'open', 'previousClose', 'quoteType', 'regularMarketPreviousClose', 'shares', 'tenDayAverageVolume', 'threeMonthAverageVolume', 'timezone', 'twoHundredDayAverage', 'yearChange', 'yearHigh', 'yearLow']"
     },
     "execution_count": 11,
     "metadata": {},
     "output_type": "execute_result"
    }
   ],
   "source": [
    "ticker.fast_info"
   ],
   "metadata": {
    "collapsed": false,
    "ExecuteTime": {
     "end_time": "2024-02-24T02:27:52.844975Z",
     "start_time": "2024-02-24T02:27:52.839043Z"
    }
   },
   "id": "3836d94dd4c0a59e",
   "execution_count": 11
  },
  {
   "cell_type": "code",
   "outputs": [
    {
     "data": {
      "text/plain": "Empty DataFrame\nColumns: []\nIndex: []",
      "text/html": "<div>\n<style scoped>\n    .dataframe tbody tr th:only-of-type {\n        vertical-align: middle;\n    }\n\n    .dataframe tbody tr th {\n        vertical-align: top;\n    }\n\n    .dataframe thead th {\n        text-align: right;\n    }\n</style>\n<table border=\"1\" class=\"dataframe\">\n  <thead>\n    <tr style=\"text-align: right;\">\n      <th></th>\n    </tr>\n  </thead>\n  <tbody>\n  </tbody>\n</table>\n</div>"
     },
     "execution_count": 12,
     "metadata": {},
     "output_type": "execute_result"
    }
   ],
   "source": [
    "ticker.financials"
   ],
   "metadata": {
    "collapsed": false,
    "ExecuteTime": {
     "end_time": "2024-02-24T02:27:52.969815Z",
     "start_time": "2024-02-24T02:27:52.852441Z"
    }
   },
   "id": "b3a0f14653c2cb03",
   "execution_count": 12
  },
  {
   "cell_type": "code",
   "outputs": [
    {
     "data": {
      "text/plain": "<bound method log_indent_decorator.<locals>.wrapper of yfinance.Ticker object <^GSPC>>"
     },
     "execution_count": 13,
     "metadata": {},
     "output_type": "execute_result"
    }
   ],
   "source": [
    "ticker.history"
   ],
   "metadata": {
    "collapsed": false,
    "ExecuteTime": {
     "end_time": "2024-02-24T02:27:52.983667Z",
     "start_time": "2024-02-24T02:27:52.963654Z"
    }
   },
   "id": "c5035bef21d7dcaa",
   "execution_count": 13
  },
  {
   "cell_type": "code",
   "outputs": [
    {
     "data": {
      "text/plain": "{'currency': 'USD',\n 'symbol': '^GSPC',\n 'exchangeName': 'SNP',\n 'instrumentType': 'INDEX',\n 'firstTradeDate': -1325583000,\n 'regularMarketTime': 1708726472,\n 'hasPrePostMarketData': False,\n 'gmtoffset': -18000,\n 'timezone': 'EST',\n 'exchangeTimezoneName': 'America/New_York',\n 'regularMarketPrice': 5088.8,\n 'chartPreviousClose': 17.66,\n 'priceHint': 2,\n 'currentTradingPeriod': {'pre': {'timezone': 'EST',\n   'start': 1708678800,\n   'end': 1708698600,\n   'gmtoffset': -18000},\n  'regular': {'timezone': 'EST',\n   'start': 1708698600,\n   'end': 1708722000,\n   'gmtoffset': -18000},\n  'post': {'timezone': 'EST',\n   'start': 1708722000,\n   'end': 1708736400,\n   'gmtoffset': -18000}},\n 'dataGranularity': '1d',\n 'range': '',\n 'validRanges': ['1d',\n  '5d',\n  '1mo',\n  '3mo',\n  '6mo',\n  '1y',\n  '2y',\n  '5y',\n  '10y',\n  'ytd',\n  'max']}"
     },
     "execution_count": 14,
     "metadata": {},
     "output_type": "execute_result"
    }
   ],
   "source": [
    "ticker.history_metadata"
   ],
   "metadata": {
    "collapsed": false,
    "ExecuteTime": {
     "end_time": "2024-02-24T02:27:53.029870Z",
     "start_time": "2024-02-24T02:27:52.986952Z"
    }
   },
   "id": "644d53f6b63c977b",
   "execution_count": 14
  },
  {
   "cell_type": "code",
   "outputs": [
    {
     "data": {
      "text/plain": "Empty DataFrame\nColumns: []\nIndex: []",
      "text/html": "<div>\n<style scoped>\n    .dataframe tbody tr th:only-of-type {\n        vertical-align: middle;\n    }\n\n    .dataframe tbody tr th {\n        vertical-align: top;\n    }\n\n    .dataframe thead th {\n        text-align: right;\n    }\n</style>\n<table border=\"1\" class=\"dataframe\">\n  <thead>\n    <tr style=\"text-align: right;\">\n      <th></th>\n    </tr>\n  </thead>\n  <tbody>\n  </tbody>\n</table>\n</div>"
     },
     "execution_count": 15,
     "metadata": {},
     "output_type": "execute_result"
    }
   ],
   "source": [
    "ticker.incomestmt"
   ],
   "metadata": {
    "collapsed": false,
    "ExecuteTime": {
     "end_time": "2024-02-24T02:27:53.093536Z",
     "start_time": "2024-02-24T02:27:52.999787Z"
    }
   },
   "id": "56e4d6a802a728d0",
   "execution_count": 15
  },
  {
   "cell_type": "code",
   "outputs": [
    {
     "data": {
      "text/plain": "{'maxAge': 86400,\n 'priceHint': 2,\n 'previousClose': 5087.03,\n 'open': 5100.92,\n 'dayLow': 5081.46,\n 'dayHigh': 5111.06,\n 'regularMarketPreviousClose': 5087.03,\n 'regularMarketOpen': 5100.92,\n 'regularMarketDayLow': 5081.46,\n 'regularMarketDayHigh': 5111.06,\n 'volume': 2256863000,\n 'regularMarketVolume': 2256863000,\n 'averageVolume': 4024996393,\n 'averageVolume10days': 3938553000,\n 'averageDailyVolume10Day': 3938553000,\n 'bid': 5034.25,\n 'ask': 5139.04,\n 'fiftyTwoWeekLow': 3808.86,\n 'fiftyTwoWeekHigh': 5111.06,\n 'fiftyDayAverage': 4848.5503,\n 'twoHundredDayAverage': 4503.6323,\n 'currency': 'USD',\n 'exchange': 'SNP',\n 'quoteType': 'INDEX',\n 'symbol': '^GSPC',\n 'underlyingSymbol': '^GSPC',\n 'shortName': 'S&P 500',\n 'longName': 'S&P 500',\n 'firstTradeDateEpochUtc': -1325583000,\n 'timeZoneFullName': 'America/New_York',\n 'timeZoneShortName': 'EST',\n 'uuid': '8ffd55d1-3d1d-3733-a480-56768bc708e6',\n 'messageBoardId': 'finmb_INDEXGSPC',\n 'gmtOffSetMilliseconds': -18000000,\n 'trailingPegRatio': None}"
     },
     "execution_count": 16,
     "metadata": {},
     "output_type": "execute_result"
    }
   ],
   "source": [
    "ticker.info"
   ],
   "metadata": {
    "collapsed": false,
    "ExecuteTime": {
     "end_time": "2024-02-24T02:27:53.202733Z",
     "start_time": "2024-02-24T02:27:53.015044Z"
    }
   },
   "id": "f3322e876e80ab61",
   "execution_count": 16
  },
  {
   "cell_type": "code",
   "outputs": [
    {
     "name": "stderr",
     "output_type": "stream",
     "text": [
      "404 Client Error: Not Found for url: https://query2.finance.yahoo.com/v10/finance/quoteSummary/?modules=institutionOwnership%2CfundOwnership%2CmajorDirectHolders%2CmajorHoldersBreakdown%2CinsiderTransactions%2CinsiderHolders%2CnetSharePurchaseActivity&corsDomain=finance.yahoo.com&symbol=%5EGSPC&formatted=false&crumb=tbBdTUkCNUj\n"
     ]
    },
    {
     "data": {
      "text/plain": "Empty DataFrame\nColumns: []\nIndex: []",
      "text/html": "<div>\n<style scoped>\n    .dataframe tbody tr th:only-of-type {\n        vertical-align: middle;\n    }\n\n    .dataframe tbody tr th {\n        vertical-align: top;\n    }\n\n    .dataframe thead th {\n        text-align: right;\n    }\n</style>\n<table border=\"1\" class=\"dataframe\">\n  <thead>\n    <tr style=\"text-align: right;\">\n      <th></th>\n    </tr>\n  </thead>\n  <tbody>\n  </tbody>\n</table>\n</div>"
     },
     "execution_count": 17,
     "metadata": {},
     "output_type": "execute_result"
    }
   ],
   "source": [
    "ticker.insider_purchases"
   ],
   "metadata": {
    "collapsed": false,
    "ExecuteTime": {
     "end_time": "2024-02-24T02:27:54.243236Z",
     "start_time": "2024-02-24T02:27:53.193165Z"
    }
   },
   "id": "78080c6c2177c93d",
   "execution_count": 17
  },
  {
   "cell_type": "code",
   "outputs": [
    {
     "data": {
      "text/plain": "Empty DataFrame\nColumns: []\nIndex: []",
      "text/html": "<div>\n<style scoped>\n    .dataframe tbody tr th:only-of-type {\n        vertical-align: middle;\n    }\n\n    .dataframe tbody tr th {\n        vertical-align: top;\n    }\n\n    .dataframe thead th {\n        text-align: right;\n    }\n</style>\n<table border=\"1\" class=\"dataframe\">\n  <thead>\n    <tr style=\"text-align: right;\">\n      <th></th>\n    </tr>\n  </thead>\n  <tbody>\n  </tbody>\n</table>\n</div>"
     },
     "execution_count": 18,
     "metadata": {},
     "output_type": "execute_result"
    }
   ],
   "source": [
    "ticker.insider_roster_holders"
   ],
   "metadata": {
    "collapsed": false,
    "ExecuteTime": {
     "end_time": "2024-02-24T02:27:54.248472Z",
     "start_time": "2024-02-24T02:27:54.241932Z"
    }
   },
   "id": "1be2c76c70972ace",
   "execution_count": 18
  },
  {
   "cell_type": "code",
   "outputs": [
    {
     "data": {
      "text/plain": "Empty DataFrame\nColumns: []\nIndex: []",
      "text/html": "<div>\n<style scoped>\n    .dataframe tbody tr th:only-of-type {\n        vertical-align: middle;\n    }\n\n    .dataframe tbody tr th {\n        vertical-align: top;\n    }\n\n    .dataframe thead th {\n        text-align: right;\n    }\n</style>\n<table border=\"1\" class=\"dataframe\">\n  <thead>\n    <tr style=\"text-align: right;\">\n      <th></th>\n    </tr>\n  </thead>\n  <tbody>\n  </tbody>\n</table>\n</div>"
     },
     "execution_count": 19,
     "metadata": {},
     "output_type": "execute_result"
    }
   ],
   "source": [
    "ticker.insider_transactions"
   ],
   "metadata": {
    "collapsed": false,
    "ExecuteTime": {
     "end_time": "2024-02-24T02:27:54.283939Z",
     "start_time": "2024-02-24T02:27:54.258099Z"
    }
   },
   "id": "15e7e0a616f903",
   "execution_count": 19
  },
  {
   "cell_type": "code",
   "outputs": [
    {
     "data": {
      "text/plain": "Empty DataFrame\nColumns: []\nIndex: []",
      "text/html": "<div>\n<style scoped>\n    .dataframe tbody tr th:only-of-type {\n        vertical-align: middle;\n    }\n\n    .dataframe tbody tr th {\n        vertical-align: top;\n    }\n\n    .dataframe thead th {\n        text-align: right;\n    }\n</style>\n<table border=\"1\" class=\"dataframe\">\n  <thead>\n    <tr style=\"text-align: right;\">\n      <th></th>\n    </tr>\n  </thead>\n  <tbody>\n  </tbody>\n</table>\n</div>"
     },
     "execution_count": 20,
     "metadata": {},
     "output_type": "execute_result"
    }
   ],
   "source": [
    "ticker.institutional_holders"
   ],
   "metadata": {
    "collapsed": false,
    "ExecuteTime": {
     "end_time": "2024-02-24T02:27:54.367167Z",
     "start_time": "2024-02-24T02:27:54.274059Z"
    }
   },
   "id": "435880510de7ba8c",
   "execution_count": 20
  },
  {
   "cell_type": "code",
   "outputs": [
    {
     "data": {
      "text/plain": "Empty DataFrame\nColumns: []\nIndex: []",
      "text/html": "<div>\n<style scoped>\n    .dataframe tbody tr th:only-of-type {\n        vertical-align: middle;\n    }\n\n    .dataframe tbody tr th {\n        vertical-align: top;\n    }\n\n    .dataframe thead th {\n        text-align: right;\n    }\n</style>\n<table border=\"1\" class=\"dataframe\">\n  <thead>\n    <tr style=\"text-align: right;\">\n      <th></th>\n    </tr>\n  </thead>\n  <tbody>\n  </tbody>\n</table>\n</div>"
     },
     "execution_count": 21,
     "metadata": {},
     "output_type": "execute_result"
    }
   ],
   "source": [
    "ticker.major_holders"
   ],
   "metadata": {
    "collapsed": false,
    "ExecuteTime": {
     "end_time": "2024-02-24T02:27:54.424616Z",
     "start_time": "2024-02-24T02:27:54.289806Z"
    }
   },
   "id": "641e4cf4a7289087",
   "execution_count": 21
  },
  {
   "cell_type": "code",
   "outputs": [
    {
     "data": {
      "text/plain": "Empty DataFrame\nColumns: []\nIndex: []",
      "text/html": "<div>\n<style scoped>\n    .dataframe tbody tr th:only-of-type {\n        vertical-align: middle;\n    }\n\n    .dataframe tbody tr th {\n        vertical-align: top;\n    }\n\n    .dataframe thead th {\n        text-align: right;\n    }\n</style>\n<table border=\"1\" class=\"dataframe\">\n  <thead>\n    <tr style=\"text-align: right;\">\n      <th></th>\n    </tr>\n  </thead>\n  <tbody>\n  </tbody>\n</table>\n</div>"
     },
     "execution_count": 22,
     "metadata": {},
     "output_type": "execute_result"
    }
   ],
   "source": [
    "ticker.mutualfund_holders"
   ],
   "metadata": {
    "collapsed": false,
    "ExecuteTime": {
     "end_time": "2024-02-24T02:27:54.530295Z",
     "start_time": "2024-02-24T02:27:54.305786Z"
    }
   },
   "id": "a3c295bba8e73b44",
   "execution_count": 22
  },
  {
   "cell_type": "code",
   "outputs": [
    {
     "data": {
      "text/plain": "[{'uuid': 'aec66976-5e01-3e93-8882-324ca64d968b',\n  'title': 'Why Universal Insurance Holdings Stock Soared by 22% on Friday',\n  'publisher': 'Motley Fool',\n  'link': 'https://finance.yahoo.com/m/aec66976-5e01-3e93-8882-324ca64d968b/why-universal-insurance.html',\n  'providerPublishTime': 1708732434,\n  'type': 'STORY',\n  'thumbnail': {'resolutions': [{'url': 'https://s.yimg.com/uu/api/res/1.2/FEZ7oQ4Kqkm2wQkHWQNxMA--~B/aD0xNTAwO3c9MjAwMDthcHBpZD15dGFjaHlvbg--/https://media.zenfs.com/en/motleyfool.com/4f8905135c2317bd9914c901dca5835e',\n     'width': 2000,\n     'height': 1500,\n     'tag': 'original'},\n    {'url': 'https://s.yimg.com/uu/api/res/1.2/8unia9i_I5bAL.98ncxClQ--~B/Zmk9ZmlsbDtoPTE0MDtweW9mZj0wO3c9MTQwO2FwcGlkPXl0YWNoeW9u/https://media.zenfs.com/en/motleyfool.com/4f8905135c2317bd9914c901dca5835e',\n     'width': 140,\n     'height': 140,\n     'tag': '140x140'}]},\n  'relatedTickers': ['UVE', '^GSPC']},\n {'uuid': '0de3c0d1-6990-3323-818f-2ea9a7609be8',\n  'title': 'Dow Jones Futures: Nvidia Eyes A Milestone, AMD Setting Up, But Stock Market Needs This',\n  'publisher': \"Investor's Business Daily\",\n  'link': 'https://finance.yahoo.com/m/0de3c0d1-6990-3323-818f-2ea9a7609be8/dow-jones-futures%3A-nvidia.html',\n  'providerPublishTime': 1708731441,\n  'type': 'STORY',\n  'thumbnail': {'resolutions': [{'url': 'https://s.yimg.com/uu/api/res/1.2/3oYpdlk3dOpFCaTGXvk1LA--~B/aD01MzM7dz05NDU7YXBwaWQ9eXRhY2h5b24-/https://media.zenfs.com/en/ibd.com/7147c48c8897e84dc52aac4692b4ce8f',\n     'width': 945,\n     'height': 533,\n     'tag': 'original'},\n    {'url': 'https://s.yimg.com/uu/api/res/1.2/llLtDM8T.HKtt0f_seUlHA--~B/Zmk9ZmlsbDtoPTE0MDtweW9mZj0wO3c9MTQwO2FwcGlkPXl0YWNoeW9u/https://media.zenfs.com/en/ibd.com/7147c48c8897e84dc52aac4692b4ce8f',\n     'width': 140,\n     'height': 140,\n     'tag': '140x140'}]},\n  'relatedTickers': ['NVDA',\n   '^GSPC',\n   'COMP',\n   'AMD',\n   '^DJI',\n   'MSFT',\n   'LEN-B',\n   'MANH']},\n {'uuid': '432c9e2a-4bb2-32b1-9ea1-a2821f7a1a4b',\n  'title': 'SPY First ETF to Reach $500B in Assets',\n  'publisher': 'etf.com',\n  'link': 'https://finance.yahoo.com/m/432c9e2a-4bb2-32b1-9ea1-a2821f7a1a4b/spy-first-etf-to-reach-%24500b.html',\n  'providerPublishTime': 1708731278,\n  'type': 'STORY',\n  'thumbnail': {'resolutions': [{'url': 'https://s.yimg.com/uu/api/res/1.2/AqVQZAZQj0Vjks_UkGgkJg--~B/aD01MDU7dz03NjA7YXBwaWQ9eXRhY2h5b24-/https://media.zenfs.com/en/indexuniverse.com/e1453fa050fc778a05ac82f720098464',\n     'width': 760,\n     'height': 505,\n     'tag': 'original'},\n    {'url': 'https://s.yimg.com/uu/api/res/1.2/gRSIkahB._7CEhc9oz1YBQ--~B/Zmk9ZmlsbDtoPTE0MDtweW9mZj0wO3c9MTQwO2FwcGlkPXl0YWNoeW9u/https://media.zenfs.com/en/indexuniverse.com/e1453fa050fc778a05ac82f720098464',\n     'width': 140,\n     'height': 140,\n     'tag': '140x140'}]},\n  'relatedTickers': ['SPY', '^GSPC']},\n {'uuid': '9ff6e461-6343-3282-9699-a052c3ef12ec',\n  'title': \"Alaska Air Group (ALK) Stock Sinks As Market Gains: Here's Why\",\n  'publisher': 'Zacks',\n  'link': 'https://finance.yahoo.com/news/alaska-air-group-alk-stock-231507840.html',\n  'providerPublishTime': 1708730107,\n  'type': 'STORY',\n  'thumbnail': {'resolutions': [{'url': 'https://s.yimg.com/uu/api/res/1.2/F3nzpi36wi9juoO_v9PrEA--~B/aD02MDA7dz05MDA7YXBwaWQ9eXRhY2h5b24-/https://media.zenfs.com/en/zacks.com/2a50596f066181e48e4ae0ad6be00462',\n     'width': 900,\n     'height': 600,\n     'tag': 'original'},\n    {'url': 'https://s.yimg.com/uu/api/res/1.2/aDH3K02ilxL.wIxqZgf1dw--~B/Zmk9ZmlsbDtoPTE0MDtweW9mZj0wO3c9MTQwO2FwcGlkPXl0YWNoeW9u/https://media.zenfs.com/en/zacks.com/2a50596f066181e48e4ae0ad6be00462',\n     'width': 140,\n     'height': 140,\n     'tag': '140x140'}]},\n  'relatedTickers': ['ALK', '^GSPC']},\n {'uuid': '0fe54957-d1a2-36df-a43c-01ba3e07c73b',\n  'title': 'Array Technologies, Inc. (ARRY) Outpaces Stock Market Gains: What You Should Know',\n  'publisher': 'Zacks',\n  'link': 'https://finance.yahoo.com/news/array-technologies-inc-arry-outpaces-231507135.html',\n  'providerPublishTime': 1708730107,\n  'type': 'STORY',\n  'thumbnail': {'resolutions': [{'url': 'https://s.yimg.com/uu/api/res/1.2/ksLAzii1aL14haHFbPC1Rg--~B/aD02MDE7dz05MDA7YXBwaWQ9eXRhY2h5b24-/https://media.zenfs.com/en/zacks.com/bdc2850a48a0f40806db817a9e24f36f',\n     'width': 900,\n     'height': 601,\n     'tag': 'original'},\n    {'url': 'https://s.yimg.com/uu/api/res/1.2/sz.PXkOG_KtvLQskImJYTA--~B/Zmk9ZmlsbDtoPTE0MDtweW9mZj0wO3c9MTQwO2FwcGlkPXl0YWNoeW9u/https://media.zenfs.com/en/zacks.com/bdc2850a48a0f40806db817a9e24f36f',\n     'width': 140,\n     'height': 140,\n     'tag': '140x140'}]},\n  'relatedTickers': ['ARRY', '^GSPC']},\n {'uuid': 'efe553c6-7e27-376a-ab9f-b4d98a8481d7',\n  'title': 'Nokia (NOK) Stock Sinks As Market Gains: What You Should Know',\n  'publisher': 'Zacks',\n  'link': 'https://finance.yahoo.com/news/nokia-nok-stock-sinks-market-230008256.html',\n  'providerPublishTime': 1708729208,\n  'type': 'STORY',\n  'thumbnail': {'resolutions': [{'url': 'https://s.yimg.com/uu/api/res/1.2/UYup8AGIrn99rMsHiTllqA--~B/aD04NzY7dz05MDA7YXBwaWQ9eXRhY2h5b24-/https://media.zenfs.com/en/zacks.com/d0d4ab152198da2f423d92da8a7d22ee',\n     'width': 900,\n     'height': 876,\n     'tag': 'original'},\n    {'url': 'https://s.yimg.com/uu/api/res/1.2/XhCCCM1n.mhdk3ZYrtuYVA--~B/Zmk9ZmlsbDtoPTE0MDtweW9mZj0wO3c9MTQwO2FwcGlkPXl0YWNoeW9u/https://media.zenfs.com/en/zacks.com/d0d4ab152198da2f423d92da8a7d22ee',\n     'width': 140,\n     'height': 140,\n     'tag': '140x140'}]},\n  'relatedTickers': ['^GSPC', 'NOKIA.HE']},\n {'uuid': 'e0a833a2-e2d8-3092-9b58-86a8800a6d58',\n  'title': 'KeyCorp (KEY) Stock Sinks As Market Gains: What You Should Know',\n  'publisher': 'Zacks',\n  'link': 'https://finance.yahoo.com/news/keycorp-key-stock-sinks-market-230008529.html',\n  'providerPublishTime': 1708729208,\n  'type': 'STORY',\n  'thumbnail': {'resolutions': [{'url': 'https://s.yimg.com/uu/api/res/1.2/xMhOxlfdhVA7Ts3pP3IHyA--~B/aD02MzM7dz05MDA7YXBwaWQ9eXRhY2h5b24-/https://media.zenfs.com/en/zacks.com/b369e357aa3d42cc28ac674490d4ae83',\n     'width': 900,\n     'height': 633,\n     'tag': 'original'},\n    {'url': 'https://s.yimg.com/uu/api/res/1.2/1wWgvR9AXA1o_EfTypadHw--~B/Zmk9ZmlsbDtoPTE0MDtweW9mZj0wO3c9MTQwO2FwcGlkPXl0YWNoeW9u/https://media.zenfs.com/en/zacks.com/b369e357aa3d42cc28ac674490d4ae83',\n     'width': 140,\n     'height': 140,\n     'tag': '140x140'}]},\n  'relatedTickers': ['KEY', '^GSPC']},\n {'uuid': 'cb901788-2bec-3579-9b19-8e3083d758f2',\n  'title': 'American Woodmark (AMWD) Rises Higher Than Market: Key Facts',\n  'publisher': 'Zacks',\n  'link': 'https://finance.yahoo.com/news/american-woodmark-amwd-rises-higher-230008451.html',\n  'providerPublishTime': 1708729208,\n  'type': 'STORY',\n  'thumbnail': {'resolutions': [{'url': 'https://s.yimg.com/uu/api/res/1.2/XFzKRSTb2_xUaLSOCP9.Bg--~B/aD02MDI7dz05MDA7YXBwaWQ9eXRhY2h5b24-/https://media.zenfs.com/en/zacks.com/a41b81fe729c761f3f94f42ff348f70c',\n     'width': 900,\n     'height': 602,\n     'tag': 'original'},\n    {'url': 'https://s.yimg.com/uu/api/res/1.2/UF5vS9CCA_LIuCo4lg9rzA--~B/Zmk9ZmlsbDtoPTE0MDtweW9mZj0wO3c9MTQwO2FwcGlkPXl0YWNoeW9u/https://media.zenfs.com/en/zacks.com/a41b81fe729c761f3f94f42ff348f70c',\n     'width': 140,\n     'height': 140,\n     'tag': '140x140'}]},\n  'relatedTickers': ['AMWD', '^GSPC']}]"
     },
     "execution_count": 23,
     "metadata": {},
     "output_type": "execute_result"
    }
   ],
   "source": [
    "ticker.news"
   ],
   "metadata": {
    "collapsed": false,
    "ExecuteTime": {
     "end_time": "2024-02-24T02:27:54.749085Z",
     "start_time": "2024-02-24T02:27:54.321962Z"
    }
   },
   "id": "e74d13d3a7a95624",
   "execution_count": 23
  },
  {
   "cell_type": "code",
   "outputs": [
    {
     "data": {
      "text/plain": "<bound method Ticker.option_chain of yfinance.Ticker object <^GSPC>>"
     },
     "execution_count": 24,
     "metadata": {},
     "output_type": "execute_result"
    }
   ],
   "source": [
    "ticker.option_chain"
   ],
   "metadata": {
    "collapsed": false,
    "ExecuteTime": {
     "end_time": "2024-02-24T02:27:54.814360Z",
     "start_time": "2024-02-24T02:27:54.492449Z"
    }
   },
   "id": "637b59c7b2897cab",
   "execution_count": 24
  },
  {
   "cell_type": "code",
   "outputs": [
    {
     "data": {
      "text/plain": "()"
     },
     "execution_count": 25,
     "metadata": {},
     "output_type": "execute_result"
    }
   ],
   "source": [
    "ticker.options"
   ],
   "metadata": {
    "collapsed": false,
    "ExecuteTime": {
     "end_time": "2024-02-24T02:27:54.885312Z",
     "start_time": "2024-02-24T02:27:54.492936Z"
    }
   },
   "id": "55ee5c46442c4ddc",
   "execution_count": 25
  },
  {
   "cell_type": "code",
   "outputs": [],
   "source": [
    "ticker.proxy"
   ],
   "metadata": {
    "collapsed": false,
    "ExecuteTime": {
     "end_time": "2024-02-24T02:27:54.886941Z",
     "start_time": "2024-02-24T02:27:54.562073Z"
    }
   },
   "id": "8d078e678c3438d7",
   "execution_count": 26
  },
  {
   "cell_type": "code",
   "outputs": [
    {
     "data": {
      "text/plain": "Empty DataFrame\nColumns: []\nIndex: []",
      "text/html": "<div>\n<style scoped>\n    .dataframe tbody tr th:only-of-type {\n        vertical-align: middle;\n    }\n\n    .dataframe tbody tr th {\n        vertical-align: top;\n    }\n\n    .dataframe thead th {\n        text-align: right;\n    }\n</style>\n<table border=\"1\" class=\"dataframe\">\n  <thead>\n    <tr style=\"text-align: right;\">\n      <th></th>\n    </tr>\n  </thead>\n  <tbody>\n  </tbody>\n</table>\n</div>"
     },
     "execution_count": 27,
     "metadata": {},
     "output_type": "execute_result"
    }
   ],
   "source": [
    "ticker.quarterly_balancesheet"
   ],
   "metadata": {
    "collapsed": false,
    "ExecuteTime": {
     "end_time": "2024-02-24T02:27:54.967103Z",
     "start_time": "2024-02-24T02:27:54.568802Z"
    }
   },
   "id": "24e12e28686fab4a",
   "execution_count": 27
  },
  {
   "cell_type": "code",
   "outputs": [
    {
     "data": {
      "text/plain": "Empty DataFrame\nColumns: []\nIndex: []",
      "text/html": "<div>\n<style scoped>\n    .dataframe tbody tr th:only-of-type {\n        vertical-align: middle;\n    }\n\n    .dataframe tbody tr th {\n        vertical-align: top;\n    }\n\n    .dataframe thead th {\n        text-align: right;\n    }\n</style>\n<table border=\"1\" class=\"dataframe\">\n  <thead>\n    <tr style=\"text-align: right;\">\n      <th></th>\n    </tr>\n  </thead>\n  <tbody>\n  </tbody>\n</table>\n</div>"
     },
     "execution_count": 28,
     "metadata": {},
     "output_type": "execute_result"
    }
   ],
   "source": [
    "ticker.quarterly_cash_flow"
   ],
   "metadata": {
    "collapsed": false,
    "ExecuteTime": {
     "end_time": "2024-02-24T02:27:55.046153Z",
     "start_time": "2024-02-24T02:27:54.706984Z"
    }
   },
   "id": "c25e85ebad151f29",
   "execution_count": 28
  },
  {
   "cell_type": "code",
   "outputs": [
    {
     "data": {
      "text/plain": "Empty DataFrame\nColumns: []\nIndex: []",
      "text/html": "<div>\n<style scoped>\n    .dataframe tbody tr th:only-of-type {\n        vertical-align: middle;\n    }\n\n    .dataframe tbody tr th {\n        vertical-align: top;\n    }\n\n    .dataframe thead th {\n        text-align: right;\n    }\n</style>\n<table border=\"1\" class=\"dataframe\">\n  <thead>\n    <tr style=\"text-align: right;\">\n      <th></th>\n    </tr>\n  </thead>\n  <tbody>\n  </tbody>\n</table>\n</div>"
     },
     "execution_count": 29,
     "metadata": {},
     "output_type": "execute_result"
    }
   ],
   "source": [
    "ticker.quarterly_cashflow"
   ],
   "metadata": {
    "collapsed": false,
    "ExecuteTime": {
     "end_time": "2024-02-24T02:27:55.047631Z",
     "start_time": "2024-02-24T02:27:54.836733Z"
    }
   },
   "id": "2b49f4179028b531",
   "execution_count": 29
  },
  {
   "cell_type": "code",
   "outputs": [
    {
     "data": {
      "text/plain": "Empty DataFrame\nColumns: []\nIndex: []",
      "text/html": "<div>\n<style scoped>\n    .dataframe tbody tr th:only-of-type {\n        vertical-align: middle;\n    }\n\n    .dataframe tbody tr th {\n        vertical-align: top;\n    }\n\n    .dataframe thead th {\n        text-align: right;\n    }\n</style>\n<table border=\"1\" class=\"dataframe\">\n  <thead>\n    <tr style=\"text-align: right;\">\n      <th></th>\n    </tr>\n  </thead>\n  <tbody>\n  </tbody>\n</table>\n</div>"
     },
     "execution_count": 30,
     "metadata": {},
     "output_type": "execute_result"
    }
   ],
   "source": [
    "ticker.quarterly_financials"
   ],
   "metadata": {
    "collapsed": false,
    "ExecuteTime": {
     "end_time": "2024-02-24T02:27:55.137114Z",
     "start_time": "2024-02-24T02:27:54.846477Z"
    }
   },
   "id": "d74d6228bc94c221",
   "execution_count": 30
  },
  {
   "cell_type": "code",
   "outputs": [
    {
     "data": {
      "text/plain": "Empty DataFrame\nColumns: []\nIndex: []",
      "text/html": "<div>\n<style scoped>\n    .dataframe tbody tr th:only-of-type {\n        vertical-align: middle;\n    }\n\n    .dataframe tbody tr th {\n        vertical-align: top;\n    }\n\n    .dataframe thead th {\n        text-align: right;\n    }\n</style>\n<table border=\"1\" class=\"dataframe\">\n  <thead>\n    <tr style=\"text-align: right;\">\n      <th></th>\n    </tr>\n  </thead>\n  <tbody>\n  </tbody>\n</table>\n</div>"
     },
     "execution_count": 31,
     "metadata": {},
     "output_type": "execute_result"
    }
   ],
   "source": [
    "ticker.quarterly_incomestmt"
   ],
   "metadata": {
    "collapsed": false,
    "ExecuteTime": {
     "end_time": "2024-02-24T02:27:55.138980Z",
     "start_time": "2024-02-24T02:27:54.985259Z"
    }
   },
   "id": "cc7659ceb07cb49b",
   "execution_count": 31
  },
  {
   "cell_type": "code",
   "outputs": [
    {
     "name": "stderr",
     "output_type": "stream",
     "text": [
      "404 Client Error: Not Found for url: https://query2.finance.yahoo.com/v10/finance/quoteSummary/%5EGSPC?modules=recommendationTrend&corsDomain=finance.yahoo.com&formatted=false&symbol=%5EGSPC&crumb=tbBdTUkCNUj\n"
     ]
    },
    {
     "data": {
      "text/plain": "Empty DataFrame\nColumns: []\nIndex: []",
      "text/html": "<div>\n<style scoped>\n    .dataframe tbody tr th:only-of-type {\n        vertical-align: middle;\n    }\n\n    .dataframe tbody tr th {\n        vertical-align: top;\n    }\n\n    .dataframe thead th {\n        text-align: right;\n    }\n</style>\n<table border=\"1\" class=\"dataframe\">\n  <thead>\n    <tr style=\"text-align: right;\">\n      <th></th>\n    </tr>\n  </thead>\n  <tbody>\n  </tbody>\n</table>\n</div>"
     },
     "execution_count": 32,
     "metadata": {},
     "output_type": "execute_result"
    }
   ],
   "source": [
    "ticker.recommendations"
   ],
   "metadata": {
    "collapsed": false,
    "ExecuteTime": {
     "end_time": "2024-02-24T02:27:56.393683Z",
     "start_time": "2024-02-24T02:27:55.005630Z"
    }
   },
   "id": "65f0f63fd385b3b",
   "execution_count": 32
  },
  {
   "cell_type": "code",
   "outputs": [
    {
     "data": {
      "text/plain": "Empty DataFrame\nColumns: []\nIndex: []",
      "text/html": "<div>\n<style scoped>\n    .dataframe tbody tr th:only-of-type {\n        vertical-align: middle;\n    }\n\n    .dataframe tbody tr th {\n        vertical-align: top;\n    }\n\n    .dataframe thead th {\n        text-align: right;\n    }\n</style>\n<table border=\"1\" class=\"dataframe\">\n  <thead>\n    <tr style=\"text-align: right;\">\n      <th></th>\n    </tr>\n  </thead>\n  <tbody>\n  </tbody>\n</table>\n</div>"
     },
     "execution_count": 33,
     "metadata": {},
     "output_type": "execute_result"
    }
   ],
   "source": [
    "ticker.recommendations_summary"
   ],
   "metadata": {
    "collapsed": false,
    "ExecuteTime": {
     "end_time": "2024-02-24T02:27:56.397927Z",
     "start_time": "2024-02-24T02:27:56.391304Z"
    }
   },
   "id": "4cd3330f99e997ab",
   "execution_count": 33
  },
  {
   "cell_type": "code",
   "outputs": [],
   "source": [
    "ticker.session"
   ],
   "metadata": {
    "collapsed": false,
    "ExecuteTime": {
     "end_time": "2024-02-24T02:27:56.463163Z",
     "start_time": "2024-02-24T02:27:56.400522Z"
    }
   },
   "id": "758858f98b73fa59",
   "execution_count": 34
  },
  {
   "cell_type": "code",
   "outputs": [
    {
     "data": {
      "text/plain": "Series([], Name: Stock Splits, dtype: float64)"
     },
     "execution_count": 35,
     "metadata": {},
     "output_type": "execute_result"
    }
   ],
   "source": [
    "ticker.splits"
   ],
   "metadata": {
    "collapsed": false,
    "ExecuteTime": {
     "end_time": "2024-02-24T02:27:56.464383Z",
     "start_time": "2024-02-24T02:27:56.407739Z"
    }
   },
   "id": "c5dc5709c4a7df99",
   "execution_count": 35
  },
  {
   "cell_type": "code",
   "outputs": [
    {
     "data": {
      "text/plain": "'^GSPC'"
     },
     "execution_count": 36,
     "metadata": {},
     "output_type": "execute_result"
    }
   ],
   "source": [
    "ticker.ticker"
   ],
   "metadata": {
    "collapsed": false,
    "ExecuteTime": {
     "end_time": "2024-02-24T02:27:56.552945Z",
     "start_time": "2024-02-24T02:27:56.421036Z"
    }
   },
   "id": "63b8a4e802e6b02",
   "execution_count": 36
  },
  {
   "cell_type": "code",
   "outputs": [
    {
     "name": "stderr",
     "output_type": "stream",
     "text": [
      "404 Client Error: Not Found for url: https://query2.finance.yahoo.com/v10/finance/quoteSummary/%5EGSPC?modules=upgradeDowngradeHistory&corsDomain=finance.yahoo.com&formatted=false&symbol=%5EGSPC&crumb=tbBdTUkCNUj\n"
     ]
    },
    {
     "data": {
      "text/plain": "Empty DataFrame\nColumns: []\nIndex: []",
      "text/html": "<div>\n<style scoped>\n    .dataframe tbody tr th:only-of-type {\n        vertical-align: middle;\n    }\n\n    .dataframe tbody tr th {\n        vertical-align: top;\n    }\n\n    .dataframe thead th {\n        text-align: right;\n    }\n</style>\n<table border=\"1\" class=\"dataframe\">\n  <thead>\n    <tr style=\"text-align: right;\">\n      <th></th>\n    </tr>\n  </thead>\n  <tbody>\n  </tbody>\n</table>\n</div>"
     },
     "execution_count": 37,
     "metadata": {},
     "output_type": "execute_result"
    }
   ],
   "source": [
    "ticker.upgrades_downgrades"
   ],
   "metadata": {
    "collapsed": false,
    "ExecuteTime": {
     "end_time": "2024-02-24T02:27:57.450440Z",
     "start_time": "2024-02-24T02:27:56.427831Z"
    }
   },
   "id": "3907d705456d214",
   "execution_count": 37
  }
 ],
 "metadata": {
  "kernelspec": {
   "display_name": "Python 3",
   "language": "python",
   "name": "python3"
  },
  "language_info": {
   "codemirror_mode": {
    "name": "ipython",
    "version": 2
   },
   "file_extension": ".py",
   "mimetype": "text/x-python",
   "name": "python",
   "nbconvert_exporter": "python",
   "pygments_lexer": "ipython2",
   "version": "2.7.6"
  }
 },
 "nbformat": 4,
 "nbformat_minor": 5
}
